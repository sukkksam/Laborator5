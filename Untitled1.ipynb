{
  "nbformat": 4,
  "nbformat_minor": 0,
  "metadata": {
    "colab": {
      "provenance": [],
      "authorship_tag": "ABX9TyOgX7fOlgwjFPgR0EAeD983",
      "include_colab_link": true
    },
    "kernelspec": {
      "name": "python3",
      "display_name": "Python 3"
    },
    "language_info": {
      "name": "python"
    }
  },
  "cells": [
    {
      "cell_type": "markdown",
      "metadata": {
        "id": "view-in-github",
        "colab_type": "text"
      },
      "source": [
        "<a href=\"https://colab.research.google.com/github/sukkksam/Laborator5/blob/main/Untitled1.ipynb\" target=\"_parent\"><img src=\"https://colab.research.google.com/assets/colab-badge.svg\" alt=\"Open In Colab\"/></a>"
      ]
    },
    {
      "cell_type": "code",
      "execution_count": 61,
      "metadata": {
        "id": "cnmIqx_wjLzZ"
      },
      "outputs": [],
      "source": [
        "def check_signs(arr):\n",
        "  if len(arr) < 2:\n",
        "    return False\n",
        "  sign = arr[0] >= 0\n",
        "  for i in range(1, len(arr)):\n",
        "    if (arr[i] >=0) == sign:\n",
        "      return False\n",
        "    Sign = not sign\n",
        "  return True\n",
        "# Ввод 5 массивов с клавиатуры:\n",
        "  arrays = []\n",
        "  for i in range(5):\n",
        "    arr = list(map(float, input (f\"Введите элементы массива {i+1} через пробел: \").split()))\n",
        "    arrays.append(arr)\n",
        "  found = False\n",
        "  for i in range(5):\n",
        "    if check_signs(arrays [i]) :\n",
        "      print(f\"Массив под номером {i+1} является знакочередующейся последовательностью. \")\n",
        "  found = True\n",
        "  if not found:\n",
        "    print (\"Ни один из массивов не является знакочередующейся\")"
      ]
    }
  ]
}